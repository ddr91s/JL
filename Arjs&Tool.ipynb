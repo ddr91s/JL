{
 "cells": [
  {
   "cell_type": "code",
   "execution_count": null,
   "id": "5d73419d-7d26-4c9f-9103-8dcddc2421c2",
   "metadata": {},
   "outputs": [],
   "source": [
    "from IPython.display import clear_output\n",
    "!wget https://gist.githubusercontent.com/javsubs91/c7e70f405dfc26764e424367dd24dbf6/raw/02379c2f6493db742e659de757c641da72284f1a/javsubs91.txt\n",
    "clear_output()"
   ]
  },
  {
   "cell_type": "code",
   "execution_count": null,
   "id": "93130ec0-5711-484f-935d-647ce164cda8",
   "metadata": {},
   "outputs": [],
   "source": [
    "import glob, os, shutil\n",
    "\n",
    "folder = '/root/downloads' # @param {type:\"string\"}\n",
    "for file_path in glob.glob(os.path.join(folder, '*.*')):\n",
    "    new_dir = file_path.rsplit('.', 1)[0]\n",
    "    os.mkdir(os.path.join(folder, new_dir))\n",
    "    shutil.move(file_path, os.path.join(new_dir, os.path.basename(file_path)))\n",
    "# ============================= FORM ============================= #\n",
    "os.environ['folder'] = folder\n",
    "!find \"$folder\" -type d -exec cp /root/javsubs91.txt {} \\;"
   ]
  },
  {
   "cell_type": "code",
   "execution_count": null,
   "id": "86594a83-7c71-4844-ba15-bc954833e4c2",
   "metadata": {},
   "outputs": [],
   "source": [
    "# ============================= FORM ============================= #\n",
    "# @markdown <font size=5>← [Start] Aria</font>\n",
    "\n",
    "!cp /0A/ocr.py /.ipython/ocr.py\n",
    "\n",
    "#搬运Github大佬配置\n",
    "import os\n",
    "import urllib.request\n",
    "from IPython.display import HTML, clear_output\n",
    " \n",
    "#####################################\n",
    "USE_FREE_TOKEN = False\n",
    "REGION = \"AP\"\n",
    "TOKEN = \"TOKEN\"\n",
    " \n",
    "HOME = os.path.expanduser(\"~\")\n",
    " \n",
    "from ocr import loadingAn, PortForward_wrapper\n",
    " \n",
    "loadingAn()\n",
    " \n",
    "# START_SERVER\n",
    "# Ngrok region 'us','eu','ap','au','sa','jp','in'\n",
    "clear_output()\n",
    "PORT_FORWARD = \"ngrok\" \n",
    "Server = PortForward_wrapper(\n",
    "    PORT_FORWARD, TOKEN, USE_FREE_TOKEN, [['Aria2_rpc', 6800, 'http']], REGION.lower(), \n",
    "    [f\"{HOME}/.ngrok2/aria2.yml\", 5042]\n",
    ")\n",
    " \n",
    "data = Server.start('Aria2_rpc', displayB=False)\n",
    "Host = data['url'][7:]  \n",
    "port = \"80\"\n",
    "clear_output()\n",
    " \n",
    "rpc0 = !grep \"^rpc-secret=\" /root/.aria2c/aria2.conf | awk -F \"=\" '{print $NF}'\n",
    "rpc = (\"\").join(rpc0)\n",
    "rpc64 = !echo -n $rpc | base64\n",
    "rpc_secret = (\"\").join(rpc64)\n",
    " \n",
    "showUrL = \"http://ariang.js.org/#!/settings/rpc/set/ws/\" + Host + \"/80/jsonrpc/\" + rpc_secret\n",
    " \n",
    "showTxT = \"Success! Click Here to Start AriaNg\"\n",
    " \n",
    "display(HTML('''<style>@import url('https://fonts.googleapis.com/css?family=Source+Code+Pro:200,900');  :root {   --text-color: '''+'hsla(10, 50%, 85%, 1)'+''';   --shadow-color: '''+'hsla(10, 40%, 52%, .4)'+''';   --btn-color: '''+'hsla(10, 86%, 56%, 1)'+''';   --bg-color: #141218; }  * {   box-sizing: border-box; } button { position:relative; padding: 10px 20px;     border: none;   background: none;   cursor: pointer;      font-family: \"Source Code Pro\";   font-weight: 900;   font-size: 100%;     color: var(--text-color);      background-color: var(--btn-color);   box-shadow: var(--shadow-color) 2px 2px 22px;   border-radius: 4px;    z-index: 0;     overflow: hidden;    }  button:focus {   outline-color: transparent;   box-shadow: var(--btn-color) 2px 2px 22px; }  .right::after, button::after {   content: var(--content);   display: block;   position: absolute;   white-space: nowrap;   padding: 40px 40px;   pointer-events:none; }  button::after{   font-weight: 200;   top: -30px;   left: -20px; }   .right, .left {   position: absolute;   width: 100%;   height: 100%;   top: 0; } .right {   left: 66%; } .left {   right: 66%; } .right::after {   top: -30px;   left: calc(-66% - 20px);      background-color: var(--bg-color);   color:transparent;   transition: transform .4s ease-out;   transform: translate(0, -90%) rotate(0deg) }  button:hover .right::after {   transform: translate(0, -47%) rotate(0deg) }  button .right:hover::after {   transform: translate(0, -50%) rotate(-7deg) }  button .left:hover ~ .right::after {   transform: translate(0, -50%) rotate(7deg) }  /* bubbles */ button::before {   content: '';   pointer-events: none;   opacity: .6;   background:     radial-gradient(circle at 20% 35%,  transparent 0,  transparent 2px, var(--text-color) 3px, var(--text-color) 4px, transparent 4px),     radial-gradient(circle at 75% 44%, transparent 0,  transparent 2px, var(--text-color) 3px, var(--text-color) 4px, transparent 4px),     radial-gradient(circle at 46% 52%, transparent 0, transparent 4px, var(--text-color) 5px, var(--text-color) 6px, transparent 6px);    width: 100%;   height: 300%;   top: 0;   left: 0;   position: absolute;   animation: bubbles 5s linear infinite both; }  @keyframes bubbles {   from {     transform: translate();   }   to {     transform: translate(0, -66.666%);   } }    Resources</style><center><a href=\"'''+showUrL+'''\" target=\"_blank\"><div style=\"width: 570px;   height: 80px; padding-top:15px\"><button style='--content: \"'''+showTxT+'''\";'\">   <div class=\"left\"></div>'''+showTxT+'''<div class=\"right\"></div> </div></button></a></center>'''))\n",
    " \n",
    "display(HTML(\"\"\"<style>@import url('https://fonts.googleapis.com/css?family=Source+Code+Pro:200,900');  :root {   --text-color: hsla(210, 50%, 85%, 1);   --shadow-color: hsla(210, 40%, 52%, .4);   --btn-color: hsl(210, 80%, 42%);   --bg-color: #141218; }  * {   box-sizing: border-box; } button { position:relative; padding: 10px 20px;     border: none;   background: none;      font-family: \"Source Code Pro\";   font-weight: 900;font-size: 100%;     color: var(--text-color);      background-color: var(--btn-color);   box-shadow: var(--shadow-color) 2px 2px 22px;   border-radius: 4px;    z-index: 0;overflow: hidden; -webkit-user-select: text;-moz-user-select: text;-ms-user-select: text;user-select: text;}  button:focus {   outline-color: transparent;   box-shadow: var(--btn-color) 2px 2px 22px; }  .right::after, button::after {   content: var(--content);   display: block;   position: absolute;   white-space: nowrap;   padding: 40px 40px;   pointer-events:none; }  button::after{   font-weight: 200;   top: -30px;   left: -20px; }   .right, .left {   position: absolute;   width: 100%;   height: 100%;   top: 0; } .right {   left: 66%; } .left {   right: 66%; } .right::after {   top: -30px;   left: calc(-66% - 20px);      background-color: var(--bg-color);   color:transparent;   transition: transform .4s ease-out;   transform: translate(0, -90%) rotate(0deg) }  button:hover .right::after {   transform: translate(0, -47%) rotate(0deg) }  button .right:hover::after {   transform: translate(0, -50%) rotate(-7deg) }  button .left:hover ~ .right::after {   transform: translate(0, -50%) rotate(7deg) }  /* bubbles */ button::before {   content: '';   pointer-events: none;   opacity: .6;   background:     radial-gradient(circle at 20% 35%,  transparent 0,  transparent 2px, var(--text-color) 3px, var(--text-color) 4px, transparent 4px),     radial-gradient(circle at 75% 44%, transparent 0,  transparent 2px, var(--text-color) 3px, var(--text-color) 4px, transparent 4px),     radial-gradient(circle at 46% 52%, transparent 0, transparent 4px, var(--text-color) 5px, var(--text-color) 6px, transparent 6px);    width: 100%;   height: 300%;   top: 0;   left: 0;   position: absolute;   animation: bubbles 5s linear infinite both; }  @keyframes bubbles {   from {     transform: translate();   }   to {     transform: translate(0, -66.666%);   } }.zui-table {    border: solid 1px #DDEEEE;    border-collapse: collapse;    border-spacing: 0;    font: normal 13px;}.zui-table thead th {    background-color: #DDEFEF;    border: solid 1px #DDEEEE;    color: #0000009e;    padding: 10px;    text-align: left;}.zui-table tbody td {border: solid 1px #effff97a;color: #ffffffd1;    padding: 10px;}</style><center><button><table class=\"zui-table blueBG\"><p>Aria2 rpc config<p><thead>        <tr>            <th>Protocol</th>            <th>Host</th>            <th>Port</th>        </tr>    </thead>    <tbody>        <tr>            <td>WebSocket</td><td>\"\"\"+Host+\"\"\"</td><td>\"\"\"+port+\"\"\"</td></tr></tbody></table><a target=\"_blank\" style=\"text-decoration: none;color: hsla(210, 50%, 85%, 1);font-size: 10px;\" href=\"https://raw.githubusercontent.com/biplobsd/OneClickRun/master/img/aria2RpcConfigSetup.gif\">NB. How to setup this's config. [Click ME]</a></button><center>\"\"\"))"
   ]
  },
  {
   "cell_type": "code",
   "execution_count": null,
   "id": "adc5fc47-2d85-4803-aed7-078b555468a1",
   "metadata": {},
   "outputs": [],
   "source": [
    "# ============================= FORM ============================= #\n",
    "# @markdown <font size=5>TORRENT TO MAGNET </font>\n",
    "torrent_path = '/root/TR' # @param {type:\"string\"}\n",
    "os.environ['torrent_path'] = torrent_path\n",
    "!find \"$torrent_path\" -type f -exec transmission-show -m  {} \\;"
   ]
  }
 ],
 "metadata": {
  "kernelspec": {
   "display_name": "Python 3 (ipykernel)",
   "language": "python",
   "name": "python3"
  },
  "language_info": {
   "codemirror_mode": {
    "name": "ipython",
    "version": 3
   },
   "file_extension": ".py",
   "mimetype": "text/x-python",
   "name": "python",
   "nbconvert_exporter": "python",
   "pygments_lexer": "ipython3",
   "version": "3.8.10"
  }
 },
 "nbformat": 4,
 "nbformat_minor": 5
}
