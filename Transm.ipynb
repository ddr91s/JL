{
  "nbformat": 4,
  "nbformat_minor": 0,
  "metadata": {
    "colab": {
      "name": "Transm.ipynb",
      "provenance": []
    },
    "kernelspec": {
      "name": "python3",
      "display_name": "Python 3"
    },
    "language_info": {
      "name": "python"
    }
  },
  "cells": [
    {
      "cell_type": "code",
      "execution_count": null,
      "metadata": {
        "cellView": "form",
        "id": "CePVeFVG4QFz"
      },
      "outputs": [],
      "source": [
        "# ============================= FORM ============================= #\n",
        "# @markdown <font size=5>← [Start] Transmission</font>\n",
        "# @markdown > Transmission Default Credential</br>Username: admin</br>Password: admin\n",
        "!cp /0A/v2r.py /.ipython/v2r.py\n",
        "USE_FREE_TOKEN = True\n",
        "TOKEN = \"\"\n",
        "REGION = \"US\"\n",
        "Tunneling = \"argo_tunnel_(cloudflare)\" #@param [\"argo_tunnel_(cloudflare)\", \"localhost.run\", \"ngrok\"]\n",
        "\n",
        "if Tunneling == \"argo_tunnel_(cloudflare)\":\n",
        "    PORT_FORWARD = \"argotunnel\"\n",
        "elif Tunneling == \"localhost.run\":\n",
        "    PORT_FORWARD = \"localhost\"\n",
        "elif Tunneling == \"ngrok\":\n",
        "    PORT_FORWARD = \"ngrok\"\n",
        "# ================================================================ #\n",
        "\n",
        "import os, psutil, time, urllib.request, pathlib\n",
        "from IPython.display import HTML, clear_output\n",
        "\n",
        "HOME = os.path.expanduser(\"~\")\n",
        "\n",
        "from v2r import (\n",
        "    checkAvailable,\n",
        "    loadingAn,\n",
        "    PortForward_wrapper,\n",
        "    runSh,\n",
        "    displayUrl,\n",
        "    findProcess\n",
        ")\n",
        "\n",
        "loadingAn()\n",
        "\n",
        "if not os.path.exists('/usr/bin/transmission-daemon'):\n",
        "    os.makedirs('downloads', exist_ok=True)\n",
        "    os.makedirs('tools/transmission/', exist_ok=True)\n",
        "    runSh('apt install transmission-daemon')\n",
        "    nTWC = \"https://raw.githubusercontent.com/ronggang/\" \\\n",
        "        \"transmission-web-control/master/release/install-tr-control.sh\"\n",
        "    urllib.request.urlretrieve(nTWC, 'tools/transmission/trInstall.sh')\n",
        "    runSh('bash tools/transmission/trInstall.sh auto')\n",
        "    \n",
        "    try:\n",
        "        pathlib.Path('tools/transmission/trInstall.sh').unlink()\n",
        "    except FileNotFoundError:\n",
        "        pass\n",
        "\n",
        "if not findProcess('transmission-daemon', '--no-watch-dir'):\n",
        "    !transmission-daemon --no-watch-dir --config-dir tools/transmission \\\n",
        "    --port 9091 --download-dir /content/downloads/ --dht --utp --no-portmap \\\n",
        "    --peerlimit-global 9999 --peerlimit-torrent 9999 --no-global-seedratio \\\n",
        "    -u admin -v admin --auth\n",
        "\n",
        "clear_output()\n",
        "\n",
        "server = PortForward_wrapper(PORT_FORWARD, TOKEN, USE_FREE_TOKEN, [['vuze', 9595, 'http'], ['transmission', 9091, 'http']], REGION.lower, [f\"{HOME}/.ngrok2/transmission.yml\", 4058]).start('transmission', displayB=False)\n",
        "displayUrl(server, pNamU='Transmission : ', btc='r')"
      ]
    }
  ]
}